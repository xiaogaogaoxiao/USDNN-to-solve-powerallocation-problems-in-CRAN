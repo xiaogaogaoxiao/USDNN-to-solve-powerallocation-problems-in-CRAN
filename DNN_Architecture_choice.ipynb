{
 "cells": [
  {
   "cell_type": "code",
   "execution_count": 18,
   "id": "6b267b45",
   "metadata": {},
   "outputs": [
    {
     "data": {
      "text/plain": [
       "<tensorflow.python.eager.context._EagerDeviceContext at 0x7f2d60695f00>"
      ]
     },
     "execution_count": 18,
     "metadata": {},
     "output_type": "execute_result"
    }
   ],
   "source": [
    "import sys\n",
    "import os\n",
    "import numpy as np\n",
    "import matplotlib.pyplot as plt\n",
    "import warnings\n",
    "from multiprocessing import Pool\n",
    "import tensorflow as tf\n",
    "from tensorflow.python.ops import nn\n",
    "\n",
    "\n",
    "py_file_location = \"...\"\n",
    "os.path.abspath(os.path.join(os.path.dirname(py_file_location), os.path.pardir))\n",
    "\n",
    "from model_DL import *\n",
    "from functions import *\n",
    "from metrics import *\n",
    "from DNN_metrics import *\n",
    "from data_generator import *\n",
    "from loss_function import *\n",
    "from optimization import *\n",
    "\n",
    "\n",
    "\n",
    "tf.device('GPU:0') "
   ]
  },
  {
   "cell_type": "code",
   "execution_count": 19,
   "id": "8b6750be",
   "metadata": {},
   "outputs": [
    {
     "data": {
      "text/plain": [
       "(1000000,)"
      ]
     },
     "execution_count": 19,
     "metadata": {},
     "output_type": "execute_result"
    }
   ],
   "source": [
    "g_11_tr.shape"
   ]
  },
  {
   "cell_type": "markdown",
   "id": "3d915400",
   "metadata": {},
   "source": [
    "## load dataset"
   ]
  },
  {
   "cell_type": "code",
   "execution_count": 20,
   "id": "7c91a57f",
   "metadata": {},
   "outputs": [],
   "source": [
    "Nbr_train = int(1E6)\n",
    "\n",
    "Nbr_test = int(2E5) \n",
    "\n",
    "# # choose your directory path  \n",
    "project_sub_path = \"Dataset-GIT\"\n",
    "  \n",
    "# Parent Directory path\n",
    "parent_dir = \"\"\n",
    "\n",
    "\n",
    "### Train ###\n",
    "\n",
    "dataset_train = np.load(os.path.join(parent_dir,project_sub_path,'dataset_train.npz'))\n",
    "\n",
    "g_11_tr = dataset_train['g_PP'][:Nbr_train]\n",
    "g_12_tr = dataset_train['g_PS'][:Nbr_train]\n",
    "g_1R_tr = dataset_train['g_PR'][:Nbr_train]\n",
    "g_21_tr = dataset_train['g_SP'][:Nbr_train]\n",
    "g_22_tr = dataset_train['g_SS'][:Nbr_train]\n",
    "g_2R_tr = dataset_train['g_SR'][:Nbr_train]\n",
    "g_R1_tr = dataset_train['g_RP'][:Nbr_train]\n",
    "g_R2_tr = dataset_train['g_RS'][:Nbr_train]\n",
    "\n",
    "x_train = np.stack([g_R1_tr, g_11_tr, g_2R_tr, g_1R_tr, g_22_tr, g_R2_tr, g_21_tr, g_12_tr], axis=1)\n",
    "\n",
    "\n",
    "### Test ### \n",
    "\n",
    "dataset_test = np.load(os.path.join(parent_dir,project_sub_path,'dataset_test_2.npz'))\n",
    "\n",
    "\n",
    "g_11_ts = dataset_test['g_PP'][:Nbr_test]\n",
    "g_12_ts = dataset_test['g_PS'][:Nbr_test]\n",
    "g_1R_ts = dataset_test['g_PR'][:Nbr_test]\n",
    "g_21_ts = dataset_test['g_SP'][:Nbr_test]\n",
    "g_22_ts = dataset_test['g_SS'][:Nbr_test]\n",
    "g_2R_ts = dataset_test['g_SR'][:Nbr_test]\n",
    "g_R1_ts = dataset_test['g_RP'][:Nbr_test]\n",
    "g_R2_ts = dataset_test['g_RS'][:Nbr_test]\n",
    "\n",
    "R_S_ts = dataset_test['R_S']\n",
    "Alpha_ts = dataset_test['Alpha']\n",
    "P_R_ts = dataset_test['p_R']\n",
    "P_S_ts = dataset_test['p_S']\n",
    "\n",
    "\n",
    "x_test = np.stack([g_R1_ts, g_11_ts, g_2R_ts, g_1R_ts, g_22_ts, g_R2_ts, g_21_ts, g_12_ts], axis=1)\n",
    "\n",
    "y_test = np.stack([R_S_ts, Alpha_ts, P_R_ts, P_S_ts], axis=1)\n",
    "\n",
    "\n"
   ]
  },
  {
   "cell_type": "markdown",
   "id": "a0e93b60",
   "metadata": {},
   "source": [
    "# Parameters"
   ]
  },
  {
   "cell_type": "code",
   "execution_count": 21,
   "id": "c6d2a806",
   "metadata": {},
   "outputs": [],
   "source": [
    "tau = 0.25\n",
    "\n",
    "metrics = [Achievable_Rate(tau), QoS_Violation(tau), Primary_Achievable_Rate_Degradation, Primary_ARD_Percentage(tau)] #, QoS_mean_DF, QoS_median_DF\n",
    "\n",
    "VS = 0.2 # validation_split\n",
    "\n",
    "Epochs = 1000 # Epochs number\n",
    "\n",
    "BS = 4096 # batch_size\n",
    "\n",
    "LD = 10**0.5\n",
    "\n",
    "LR = 10**-4\n",
    "\n",
    "DNN_Architecture_choice_dir = \"DNN_Architecture_choice\"\n",
    "\n"
   ]
  },
  {
   "cell_type": "markdown",
   "id": "6ab1f9f5",
   "metadata": {},
   "source": [
    "# Training phase for neurons choice"
   ]
  },
  {
   "cell_type": "code",
   "execution_count": null,
   "id": "df3206d2",
   "metadata": {},
   "outputs": [],
   "source": [
    "# M : 64, 128, 256\n",
    "\n",
    "M = [64, 128, 256]\n",
    "for neuron_nbr in M:\n",
    "    model = archi_neurons_choice(x_train, loss_DF_WN(LD,tau), metrics,'sigmoid', custom_sigmoid, custom_sigmoid, LR, neuron_nbr)\n",
    "    history = model.fit(x_train, x_train, epochs=Epochs, batch_size=BS, validation_split = VS)#validation_split = VS)\n",
    "    model.save(DNN_Architecture_choice_dir+str(neuron_nbr)+'.h5')\n",
    "    np.save(DNN_Architecture_choice_dir+str(neuron_nbr)+'.npy',history.history)\n",
    "\n"
   ]
  },
  {
   "cell_type": "markdown",
   "id": "f3516d37",
   "metadata": {},
   "source": [
    "# Training phase for hidden layers choice"
   ]
  },
  {
   "cell_type": "code",
   "execution_count": null,
   "id": "4b8bd75d",
   "metadata": {},
   "outputs": [],
   "source": [
    "# L : represent the hidden layers number (from 1 to 4 hidden layers)\n",
    "\n",
    "L = np.arange(1, 5 ,1)\n",
    "\n",
    "for layer_nbr in L:\n",
    "    model = archi_neurons_choice(x_train, loss_DF_WN(LD,tau), metrics,'sigmoid', custom_sigmoid, custom_sigmoid, LR, layer_nbr)\n",
    "    history = model.fit(x_train, x_train, epochs=Epochs, batch_size=BS, validation_split = VS)#validation_split = VS)\n",
    "    model.save(DNN_Architecture_choice_dir+str(layer_nbr)+'.h5')\n",
    "    np.save(DNN_Architecture_choice_dir+str(layer_nbr)+'.npy',history.history)\n",
    "\n",
    "\n"
   ]
  },
  {
   "cell_type": "code",
   "execution_count": 37,
   "id": "46fecdde",
   "metadata": {},
   "outputs": [],
   "source": [
    "tau = 0.25\n",
    "\n",
    "hist_one_h_layers = tf.keras.models.load_model('DNN_Architecture_choice1.h5', custom_objects={'DF_loss':loss_DF(Lambda,tau),'Primary_Achievable_Rate_Degradation':Primary_Achievable_Rate_Degradation,'Primary_ARDP':Primary_ARD_Percentage,'throughput':Achievable_Rate(tau),'V_Qos':QoS_Violation(tau), \"custom_sigmoid\":custom_sigmoid})\n",
    "\n",
    "hist_two_h_layers = tf.keras.models.load_model('DNN_Architecture_choice2.h5', custom_objects={'DF_loss':loss_DF(Lambda,tau),'Primary_Achievable_Rate_Degradation':Primary_Achievable_Rate_Degradation,'Primary_ARDP':Primary_ARD_Percentage,'throughput':Achievable_Rate(tau),'V_Qos':QoS_Violation(tau), \"custom_sigmoid\":custom_sigmoid})\n",
    "\n",
    "hist_three_h_layers = tf.keras.models.load_model('DNN_Architecture_choice3.h5', custom_objects={'DF_loss':loss_DF(Lambda,tau),'Primary_Achievable_Rate_Degradation':Primary_Achievable_Rate_Degradation,'Primary_ARDP':Primary_ARD_Percentage,'throughput':Achievable_Rate(tau),'V_Qos':QoS_Violation(tau), \"custom_sigmoid\":custom_sigmoid})\n",
    "\n",
    "hist_four_h_layers = tf.keras.models.load_model('DNN_Architecture_choice128.h5', custom_objects={'DF_loss':loss_DF(Lambda,tau),'Primary_Achievable_Rate_Degradation':Primary_Achievable_Rate_Degradation,'Primary_ARDP':Primary_ARD_Percentage,'throughput':Achievable_Rate(tau),'V_Qos':QoS_Violation(tau), \"custom_sigmoid\":custom_sigmoid})\n",
    "\n",
    "hist_half_four_layers = tf.keras.models.load_model('DNN_Architecture_choice64.h5', custom_objects={'DF_loss':loss_DF(Lambda,tau),'Primary_Achievable_Rate_Degradation':Primary_Achievable_Rate_Degradation,'Primary_ARDP':Primary_ARD_Percentage,'throughput':Achievable_Rate(tau),'V_Qos':QoS_Violation(tau), \"custom_sigmoid\":custom_sigmoid})\n",
    "\n",
    "hist_double_four_layers = tf.keras.models.load_model('DNN_Architecture_choice256.h5', custom_objects={'DF_loss':loss_DF(Lambda,tau),'Primary_Achievable_Rate_Degradation':Primary_Achievable_Rate_Degradation,'Primary_ARDP':Primary_ARD_Percentage,'throughput':Achievable_Rate(tau),'V_Qos':QoS_Violation(tau), \"custom_sigmoid\":custom_sigmoid})\n",
    "\n",
    "\n",
    "predictions_1 = hist_one_h_layers.predict(x_test)\n",
    "predictions_2 = hist_two_h_layers.predict(x_test)\n",
    "\n",
    "predictions_3 = hist_three_h_layers.predict(x_test)\n",
    "predictions_4 = hist_four_h_layers.predict(x_test)\n",
    "\n",
    "\n",
    "predictions_half = hist_half_four_layers.predict(x_test)\n",
    "predictions_double = hist_double_four_layers.predict(x_test)\n"
   ]
  },
  {
   "cell_type": "code",
   "execution_count": 38,
   "id": "479e353f",
   "metadata": {},
   "outputs": [],
   "source": [
    "def stats(test_set, gt_test, y_hat):\n",
    "    # debit true_test\n",
    "    debit_hat_test = rate(test_set[:,0], test_set[:,1], test_set[:,2], test_set[:,3],test_set[:,4], test_set[:,5], test_set[:,6], test_set[:,7], y_hat[:,0], y_hat[:,1], y_hat[:,2])\n",
    "    debit_true_test = np.stack((test_set[:,0], test_set[:,1], test_set[:,2], test_set[:,3],test_set[:,4], test_set[:,5], test_set[:,6], test_set[:,7], gt_test[:,0], np.sqrt(gt_test[:,1]), np.sqrt(gt_test[:,2]), np.sqrt(gt_test[:,3])), axis=1)\n",
    "\n",
    "    debit_gap = relative_avreage_gap(debit_hat_test[:,8], debit_true_test[:,8]) #[:,7] : extracting debit from ND array\n",
    "\n",
    "    tau_violation_count = Tau_Violation_Number(test_set[:,0], test_set[:,1], test_set[:,6], y_hat[:,0], y_hat[:,1], y_hat[:,2]) \n",
    "    viloated_tau = Tau_Violation_percentage(test_set, tau_violation_count)\n",
    "\n",
    "    ard_mean = ARD_mean(test_set[:,0], test_set[:,1], test_set[:,6], y_hat[:,0], y_hat[:,1], y_hat[:,2])\n",
    "\n",
    "    # min, max, mean and std  for primary debit degradation\n",
    "    pdd_vmax =  pdd_max(test_set[:,0], test_set[:,1], test_set[:,6], y_hat[:,0], y_hat[:,1], y_hat[:,2])\n",
    "    pdd_vmean = pdd_mean(test_set[:,0], test_set[:,1], test_set[:,6], y_hat[:,0], y_hat[:,1], y_hat[:,2])\n",
    "\n",
    "    return debit_gap, viloated_tau, pdd_vmean, pdd_vmax, ard_mean \n",
    "\n",
    "\n",
    "\n",
    "rate_gap_one_hlayers, outage_one_hlayers, pnd_average_one_hlayers, pnd_max_one_hlayers, delta_out_one_hlayers = stats(x_test, y_test, predictions_1)\n",
    "rate_gap_two_hlayers, outage_two_hlayers, pnd_average_two_hlayers, pnd_max_two_hlayers, delta_out_two_hlayers = stats(x_test, y_test, predictions_2)\n",
    "rate_gap_three_hlayers, outage_three_hlayers, pnd_average_three_hlayers, pnd_max_three_hlayers, delta_out_three_hlayers = stats(x_test, y_test, predictions_3)\n",
    "rate_gap_four_hlayers, outage_four_hlayers, pnd_average_four_hlayers, pnd_max_four_hlayers, delta_out_four_hlayers = stats(x_test, y_test, predictions_4)\n",
    "\n",
    "rate_gap_half_hlayers, outage_half_hlayers, pnd_average_half_hlayers, pnd_max_half_hlayers, delta_out_half_hlayers = stats(x_test, y_test, predictions_half)\n",
    "\n",
    "rate_gap_double_hlayers, outage_double_hlayers, pnd_average_double_hlayers, pnd_max_double_hlayers, delta_out_double_hlayers = stats(x_test, y_test, predictions_double)\n",
    "\n"
   ]
  },
  {
   "cell_type": "code",
   "execution_count": 39,
   "id": "1389a106",
   "metadata": {},
   "outputs": [],
   "source": [
    "rate_gap_layers = np.stack([[rate_gap_one_hlayers],[rate_gap_two_hlayers],[rate_gap_three_hlayers],[rate_gap_four_hlayers]])\n",
    "\n",
    "outage_layers = np.stack([[outage_one_hlayers],[outage_two_hlayers],[outage_three_hlayers],[outage_four_hlayers]])\n",
    "\n",
    "rate_gap_neurons = np.stack([[rate_gap_half_hlayers], [rate_gap_four_hlayers], [rate_gap_double_hlayers]])\n",
    "\n",
    "outage_neurons = np.stack([ [outage_half_hlayers], [outage_four_hlayers],[outage_double_hlayers]])\n",
    "\n",
    "\n"
   ]
  },
  {
   "cell_type": "code",
   "execution_count": 40,
   "id": "56a6863b",
   "metadata": {},
   "outputs": [
    {
     "data": {
      "image/png": "[encoded data removed]",
      "text/plain": [
       "<Figure size 432x432 with 2 Axes>"
      ]
     },
     "metadata": {
      "needs_background": "light"
     },
     "output_type": "display_data"
    }
   ],
   "source": [
    "ref = [1, 3, 5, 7]\n",
    "\n",
    "ref_2 = [1, 4, 7]\n",
    "\n",
    "\n",
    "fig, ax = plt.subplots(1, 2, constrained_layout=True, sharex=False, sharey=True) # , figsize=(10, 5)\n",
    "\n",
    "fig.set_figheight(6, 15)\n",
    "\n",
    "#-------------- First Plot --------------#\n",
    "ax[0].grid()\n",
    "\n",
    "ax[0].plot(ref, rate_gap_layers*100, label='Relative average gap', marker='^',markersize=9)\n",
    "\n",
    "ax[0].plot(ref, outage_layers, label = 'Outage', marker='H', markersize=9)\n",
    "\n",
    "ax[0].set_xlabel(\"Number of layers \", fontsize= 20, labelpad=14)\n",
    "\n",
    "ax[0].set_ylabel(r'Percentage', fontsize= 20)\n",
    "\n",
    "ax[0].set_xticks(ref)\n",
    "\n",
    "ax[0].tick_params(labelsize=16)\n",
    "\n",
    "ax[0].set_xticklabels([\"$1$\", \"$2$\", \"$3$\", \"$4$\"], fontsize=20)\n",
    "ax[0].tick_params(axis=\"x\", which=\"both\", length=0.)\n",
    "ax[0].xaxis.set_label_coords(0.5, -0.1)\n",
    "\n",
    "\n",
    "\n",
    "#-------------- Second Plot --------------#\n",
    "\n",
    "\n",
    "ax[1].grid()\n",
    "\n",
    "ax[1].plot(ref_2, rate_gap_neurons*100, marker='^', markersize=9)\n",
    "\n",
    "ax[1].plot(ref_2, outage_neurons, marker='H', markersize=9)\n",
    "\n",
    "ax[1].set_xticks(ref_2)\n",
    "\n",
    "ax[1].set_xticklabels([r'$64$', \"$128$\", '$256$'], fontsize=20)\n",
    "\n",
    "\n",
    "ax[1].set_xlabel(\"Number of neurons\", fontsize= 20)\n",
    "\n",
    "\n",
    "ax[1].tick_params(axis=\"x\", which=\"both\", length=0.)\n",
    "ax[1].xaxis.set_label_coords(0.5, -0.1)\n",
    "\n",
    "\n",
    "fig.legend(loc='upper center', bbox_to_anchor=(0.5, 1.1),\n",
    "          ncol=3, fancybox=True, shadow=True, fontsize= 16)\n",
    "\n",
    "plt.savefig('archi_plot.pdf', bbox_inches='tight')\n",
    "\n",
    "plt.show()\n",
    "\n",
    "\n"
   ]
  },
  {
   "cell_type": "code",
   "execution_count": 31,
   "id": "8c575646",
   "metadata": {},
   "outputs": [],
   "source": [
    "#params = 'loss'\n",
    "\n",
    "#one_h_layers = np.load('Data/data layers/weights_1000_epoch/1_hlayers.npy',allow_pickle='TRUE').item()[params][-1]\n",
    "\n",
    "#two_h_layers = np.load('Data/data layers/weights_1000_epoch/2_hlayers.npy',allow_pickle='TRUE').item()[params][-1]\n",
    "\n",
    "#three_h_layers = np.load('Data/data layers/weights_1000_epoch/3_hlayers.npy',allow_pickle='TRUE').item()[params][-1]\n",
    "\n",
    "#four_h_layers = np.load('Data/data layers/weights_1000_epoch/4_hlayers.npy',allow_pickle='TRUE').item()[params][-1]\n",
    "\n",
    "#half_four_layers = np.load('Data/data layers/weights_1000_epoch/half_4_hlayers.npy',allow_pickle='TRUE').item()[params][-1]\n",
    "\n",
    "#double_four_layers = np.load('Data/data layers/weights_1000_epoch/double_4_hlayers.npy',allow_pickle='TRUE').item()[params][-1]\n"
   ]
  },
  {
   "cell_type": "code",
   "execution_count": null,
   "id": "cb360e42",
   "metadata": {},
   "outputs": [],
   "source": []
  }
 ],
 "metadata": {
  "kernelspec": {
   "display_name": "Python 3 (ipykernel)",
   "language": "python",
   "name": "python3"
  },
  "language_info": {
   "codemirror_mode": {
    "name": "ipython",
    "version": 3
   },
   "file_extension": ".py",
   "mimetype": "text/x-python",
   "name": "python",
   "nbconvert_exporter": "python",
   "pygments_lexer": "ipython3",
   "version": "3.8.10"
  }
 },
 "nbformat": 4,
 "nbformat_minor": 5
}
